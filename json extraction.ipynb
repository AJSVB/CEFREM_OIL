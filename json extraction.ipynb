{
 "cells": [
  {
   "cell_type": "code",
   "execution_count": 1,
   "id": "cdbb1f8e",
   "metadata": {},
   "outputs": [
    {
     "name": "stdout",
     "output_type": "stream",
     "text": [
      "{'source_img': '027999_03296C_F3EE', 'transformation_matrix': [[0.6310280327439395, 0.36432420457091336, -10286.787490230503], [-0.36432420457091336, 0.6310280327439395, 2496.2593581318497], [0.0, 0.0, 1.0]]}\n"
     ]
    }
   ],
   "source": [
    "import json\n",
    "\n",
    "with open('Documents/data_in/filtered_img_infos.json') as json_file:\n",
    "    data = json.load(json_file)\n",
    "    for p in data:\n",
    "        print(data[p])\n",
    "        break"
   ]
  },
  {
   "cell_type": "code",
   "execution_count": null,
   "id": "07169a49",
   "metadata": {},
   "outputs": [],
   "source": []
  },
  {
   "cell_type": "code",
   "execution_count": null,
   "id": "e691bc77",
   "metadata": {},
   "outputs": [],
   "source": []
  },
  {
   "cell_type": "code",
   "execution_count": null,
   "id": "0af6d8e4",
   "metadata": {},
   "outputs": [],
   "source": []
  },
  {
   "cell_type": "code",
   "execution_count": 43,
   "id": "c68473b5",
   "metadata": {},
   "outputs": [],
   "source": [
    "import json\n",
    "from collections import Counter\n",
    "with open('Documents/data_in/images_informations_preprocessed.json') as json_file:\n",
    "    data = json.load(json_file)\n",
    "    #for p in data:\n",
    "        #print(p)\n",
    "    l1= []\n",
    "    l2 = []\n",
    "    l3=[]\n",
    "    l4=[]\n",
    "    x=1000000000\n",
    "    for p in data:\n",
    "        l1.append(int(data[p]['coord_upperleft'][0]*x) / x)\n",
    "        l2.append(int(data[p]['coord_lowerright'][0]*x) /x)\n",
    "        l3.append(int(data[p]['coord_upperleft'][1]*x )/ x)\n",
    "        l4.append(int(data[p]['coord_lowerright'][1]*x) / x)\n",
    "       # print(data[p]['coord_upperleft'])\n",
    "        #print(data[p]['coord_lowerright'])\n",
    "        #print()\n",
    "   # print(l1)\n",
    "    #print(l2)\n",
    "    a=Counter(l1)\n",
    "    b=Counter(l2)\n",
    "    c=Counter(l3)\n",
    "    d=Counter(l4)\n",
    "    \n"
   ]
  },
  {
   "cell_type": "code",
   "execution_count": 44,
   "id": "d374b3f2",
   "metadata": {},
   "outputs": [
    {
     "data": {
      "text/plain": [
       "488"
      ]
     },
     "execution_count": 44,
     "metadata": {},
     "output_type": "execute_result"
    }
   ],
   "source": [
    "len(a)"
   ]
  },
  {
   "cell_type": "code",
   "execution_count": 57,
   "id": "d570e8ac",
   "metadata": {},
   "outputs": [
    {
     "name": "stdout",
     "output_type": "stream",
     "text": [
      "0,1\n",
      "10\n",
      "\n",
      "8,0\n",
      "3\n",
      "\n",
      "0,0\n",
      "357\n",
      "\n",
      "15,0\n",
      "2\n",
      "\n",
      "0,3\n",
      "10\n",
      "\n",
      "7,0\n",
      "5\n",
      "\n",
      "2,0\n",
      "4\n",
      "\n",
      "0,2\n",
      "11\n",
      "\n",
      "15,1\n",
      "1\n",
      "\n",
      "9,0\n",
      "2\n",
      "\n",
      "16,0\n",
      "1\n",
      "\n",
      "4,3\n",
      "1\n",
      "\n",
      "1,0\n",
      "11\n",
      "\n",
      "4,0\n",
      "9\n",
      "\n",
      "8,2\n",
      "1\n",
      "\n",
      "3,0\n",
      "9\n",
      "\n",
      "5,0\n",
      "6\n",
      "\n",
      "6,0\n",
      "3\n",
      "\n",
      "5,1\n",
      "2\n",
      "\n",
      "1,6\n",
      "1\n",
      "\n",
      "0,6\n",
      "3\n",
      "\n",
      "0,4\n",
      "5\n",
      "\n",
      "6,2\n",
      "2\n",
      "\n",
      "0,7\n",
      "1\n",
      "\n",
      "17,0\n",
      "3\n",
      "\n",
      "5,2\n",
      "1\n",
      "\n",
      "8,1\n",
      "1\n",
      "\n",
      "11,0\n",
      "3\n",
      "\n",
      "12,0\n",
      "1\n",
      "\n",
      "8,7\n",
      "1\n",
      "\n",
      "2,1\n",
      "1\n",
      "\n",
      "1,7\n",
      "1\n",
      "\n",
      "0,9\n",
      "1\n",
      "\n",
      "11,4\n",
      "1\n",
      "\n",
      "2,8\n",
      "1\n",
      "\n",
      "20,0\n",
      "2\n",
      "\n",
      "13,0\n",
      "1\n",
      "\n",
      "10,0\n",
      "2\n",
      "\n",
      "1,3\n",
      "2\n",
      "\n",
      "14,7\n",
      "1\n",
      "\n",
      "3,1\n",
      "1\n",
      "\n",
      "0,5\n",
      "2\n",
      "\n",
      "2,5\n",
      "1\n",
      "\n",
      "3,3\n",
      "1\n",
      "\n",
      "488\n"
     ]
    }
   ],
   "source": [
    "import json\n",
    "from collections import Counter\n",
    "with open('Documents/data_in/qgis_stats/qgis_type_stats_images_preprocessed.json') as json_file:\n",
    "    data = json.load(json_file)\n",
    "    #for p in data:\n",
    "        #print(p)\n",
    "    l1= []\n",
    "    l2 = []\n",
    "    l3=[]\n",
    "    l4=[]\n",
    "    x=1000000000\n",
    "    for p in data:\n",
    "        print(p)\n",
    "        print(data[p])\n",
    "        l1.append(data[p])\n",
    "       # break\n",
    "       # print(data[p]['coord_upperleft'])\n",
    "        #print(data[p]['coord_lowerright'])\n",
    "        print()\n",
    "   # print(l1)\n",
    "    #print(l2)\n",
    "    print(sum(l1))\n",
    "    a=Counter(l1)\n",
    "    b=Counter(l2)\n",
    "    c=Counter(l3)\n",
    "    d=Counter(l4)\n",
    "    \n"
   ]
  },
  {
   "cell_type": "code",
   "execution_count": 73,
   "id": "832cdfad",
   "metadata": {},
   "outputs": [],
   "source": [
    "import math as Math\n",
    "Math.PI = Math.pi\n",
    "def measure(lat1, lon1, lat2, lon2):#  // generally used geo measurement function\n",
    "    R = 6378.137; \n",
    "    dLat = lat2 * Math.PI / 180 - lat1 * Math.PI / 180;\n",
    "    dLon =  lon2 * Math.PI / 180 - lon1 * Math.PI / 180;\n",
    "    a = Math.sin(dLat/2) * Math.sin(dLat/2) +\\\n",
    "    Math.cos(lat1 * Math.pi / 180) * Math.cos(lat2 * Math.pi / 180) *\\\n",
    "    Math.sin(dLon/2) * Math.sin(dLon/2);\n",
    "    c = 2 * Math.atan2(Math.sqrt(a), Math.sqrt(1-a));\n",
    "    d = R * c;\n",
    "    return d * 1000; "
   ]
  },
  {
   "cell_type": "code",
   "execution_count": 74,
   "id": "f9e0f459",
   "metadata": {},
   "outputs": [
    {
     "data": {
      "text/plain": [
       "202.7658944010388"
      ]
     },
     "execution_count": 74,
     "metadata": {},
     "output_type": "execute_result"
    }
   ],
   "source": [
    "\n",
    "measure(19.369529413, 41.206750413,19.37135046, 41.206708461)"
   ]
  }
 ],
 "metadata": {
  "kernelspec": {
   "display_name": "Python 3",
   "language": "python",
   "name": "python3"
  },
  "language_info": {
   "codemirror_mode": {
    "name": "ipython",
    "version": 3
   },
   "file_extension": ".py",
   "mimetype": "text/x-python",
   "name": "python",
   "nbconvert_exporter": "python",
   "pygments_lexer": "ipython3",
   "version": "3.8.8"
  }
 },
 "nbformat": 4,
 "nbformat_minor": 5
}
