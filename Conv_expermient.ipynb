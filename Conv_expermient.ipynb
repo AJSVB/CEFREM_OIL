{
 "cells": [
  {
   "cell_type": "code",
   "execution_count": 2,
   "id": "4261e6d2",
   "metadata": {},
   "outputs": [],
   "source": [
    "import torch\n",
    "import numpy as np\n",
    "Batch  = 16\n",
    "C_1 = 10\n",
    "H = 256\n",
    "W = 256\n",
    "import torch.nn as nn\n",
    "from torchvision import transforms\n",
    "inpu =torch.randn(Batch, C_1, H, W)\n",
    "m = nn.Conv2d(1, 1, (1, W))\n",
    "\n",
    "output = m(inpu.view(Batch * C_1, 1, H, W)).view(Batch, C_1, H, 1)\n"
   ]
  },
  {
   "cell_type": "code",
   "execution_count": 12,
   "id": "47c3ae32",
   "metadata": {},
   "outputs": [],
   "source": [
    "inp = inpu[:,:3]\n",
    "a = [transforms.ToPILImage()(i) for i in inp]\n",
    "b = [transforms.ToTensor()(i) for i in a]"
   ]
  },
  {
   "cell_type": "code",
   "execution_count": 14,
   "id": "887095da",
   "metadata": {},
   "outputs": [
    {
     "ename": "RuntimeError",
     "evalue": "shape '[16, 10, 256, 1]' is invalid for input of size 160",
     "output_type": "error",
     "traceback": [
      "\u001b[0;31m---------------------------------------------------------------------------\u001b[0m",
      "\u001b[0;31mRuntimeError\u001b[0m                              Traceback (most recent call last)",
      "\u001b[0;32m<ipython-input-14-a5f06ac4b28d>\u001b[0m in \u001b[0;36m<module>\u001b[0;34m\u001b[0m\n\u001b[1;32m      2\u001b[0m \u001b[0mm1\u001b[0m \u001b[0;34m=\u001b[0m \u001b[0mnn\u001b[0m\u001b[0;34m.\u001b[0m\u001b[0mConv2d\u001b[0m\u001b[0;34m(\u001b[0m\u001b[0;36m1\u001b[0m\u001b[0;34m,\u001b[0m \u001b[0;36m1\u001b[0m\u001b[0;34m,\u001b[0m \u001b[0;34m(\u001b[0m\u001b[0mH\u001b[0m\u001b[0;34m,\u001b[0m \u001b[0mW\u001b[0m\u001b[0;34m)\u001b[0m\u001b[0;34m)\u001b[0m\u001b[0;34m\u001b[0m\u001b[0;34m\u001b[0m\u001b[0m\n\u001b[1;32m      3\u001b[0m \u001b[0;34m\u001b[0m\u001b[0m\n\u001b[0;32m----> 4\u001b[0;31m \u001b[0moutput\u001b[0m \u001b[0;34m=\u001b[0m \u001b[0mm1\u001b[0m\u001b[0;34m(\u001b[0m\u001b[0minpu\u001b[0m\u001b[0;34m.\u001b[0m\u001b[0mview\u001b[0m\u001b[0;34m(\u001b[0m\u001b[0mBatch\u001b[0m \u001b[0;34m*\u001b[0m \u001b[0mC_1\u001b[0m\u001b[0;34m,\u001b[0m \u001b[0;36m1\u001b[0m\u001b[0;34m,\u001b[0m \u001b[0mH\u001b[0m\u001b[0;34m,\u001b[0m \u001b[0mW\u001b[0m\u001b[0;34m)\u001b[0m\u001b[0;34m)\u001b[0m\u001b[0;34m.\u001b[0m\u001b[0mview\u001b[0m\u001b[0;34m(\u001b[0m\u001b[0mBatch\u001b[0m\u001b[0;34m,\u001b[0m \u001b[0mC_1\u001b[0m\u001b[0;34m,\u001b[0m \u001b[0mH\u001b[0m\u001b[0;34m,\u001b[0m \u001b[0;36m1\u001b[0m\u001b[0;34m)\u001b[0m\u001b[0;34m\u001b[0m\u001b[0;34m\u001b[0m\u001b[0m\n\u001b[0m",
      "\u001b[0;31mRuntimeError\u001b[0m: shape '[16, 10, 256, 1]' is invalid for input of size 160"
     ]
    }
   ],
   "source": [
    "m1 = nn.Conv2d(1, 1, (H, W))\n",
    "\n",
    "output = m1(inpu.view(Batch * C_1, 1, H, W)).view(Batch, C_1, H, 1)"
   ]
  },
  {
   "cell_type": "code",
   "execution_count": 23,
   "id": "a2c5dda3",
   "metadata": {
    "scrolled": false
   },
   "outputs": [],
   "source": [
    "m2 = nn.Conv2d(10, 3, kernel_size=(7, 7), stride=(1, 1), padding=(3, 3), bias=False)\n",
    "output = m2(inpu)\n",
    "\n",
    "\n"
   ]
  },
  {
   "cell_type": "code",
   "execution_count": 42,
   "id": "2b131738",
   "metadata": {},
   "outputs": [],
   "source": [
    "m3 = nn.Conv2d(1, 3, kernel_size=(7, 7), stride=(1, 1), padding=(3, 3)#, bias=False)\n",
    "output = m3(inpu.view(10*16,1,256,256)).view(16,30,256,256).view(16,3,10,256,256)"
   ]
  },
  {
   "cell_type": "code",
   "execution_count": 54,
   "id": "9cec72f5",
   "metadata": {},
   "outputs": [
    {
     "name": "stdout",
     "output_type": "stream",
     "text": [
      "torch.Size([16, 1, 256, 256])\n"
     ]
    },
    {
     "data": {
      "text/plain": [
       "torch.Size([16, 3, 256, 256])"
      ]
     },
     "execution_count": 54,
     "metadata": {},
     "output_type": "execute_result"
    }
   ],
   "source": [
    "preLaurent0 = nn.MaxPool3d((10,1,1))\n",
    "preLaurent1 = nn.AvgPool3d((10,1,1))\n",
    "preLaurent2 = nn.LPPool2d(2.,(1,10))\n",
    "\n",
    "\n",
    "b1 =  preLaurent0(inpu)\n",
    "b2 =  preLaurent1(inpu)\n",
    "b3 =  preLaurent2(inpu.view(16,256,256,10)).view(16,1,256,256)\n",
    "print(b3.shape)\n",
    "b4 = torch.cat((b1,b2,b3),axis=1)\n",
    "b4.shape"
   ]
  },
  {
   "cell_type": "code",
   "execution_count": 17,
   "id": "bb1c303a",
   "metadata": {},
   "outputs": [
    {
     "name": "stdout",
     "output_type": "stream",
     "text": [
      "torch.Size([16, 10, 256, 256])\n"
     ]
    },
    {
     "data": {
      "text/plain": [
       "torch.Size([16, 256, 256])"
      ]
     },
     "execution_count": 17,
     "metadata": {},
     "output_type": "execute_result"
    }
   ],
   "source": [
    "var = \n",
    "print(inpu.shape)\n",
    "b1 = var(inpu.view(16,256*256,10)).view(16,256,256)\n",
    "b1.shape\n"
   ]
  },
  {
   "cell_type": "code",
   "execution_count": 7,
   "id": "c6944b37",
   "metadata": {},
   "outputs": [],
   "source": [
    "pre = nn.Conv2d(1, 3, kernel_size=(21, 21), stride=(1, 1), padding=(10, 10))#, bias=False)\n",
    "\n",
    "a = inpu.shape[0]\n",
    "b = inpu.shape[1]\n",
    "\n",
    "x = pre(inpu.view(a*b,1,256,256)).reshape(a,b*3,256,256).view(a,3,b,256,256)"
   ]
  },
  {
   "cell_type": "code",
   "execution_count": 43,
   "id": "54676cfa",
   "metadata": {},
   "outputs": [
    {
     "name": "stdout",
     "output_type": "stream",
     "text": [
      "torch.Size([16, 3, 10, 256, 256])\n",
      "torch.Size([16, 3, 256, 256])\n"
     ]
    }
   ],
   "source": [
    "print(output.shape)\n",
    "ouptut = torch.sum(output,axis = 2)\n",
    "print(ouptut.shape)\n"
   ]
  },
  {
   "cell_type": "code",
   "execution_count": 17,
   "id": "74a38d0e",
   "metadata": {},
   "outputs": [
    {
     "data": {
      "text/plain": [
       "torch.Size([16, 3, 256, 256])"
      ]
     },
     "execution_count": 17,
     "metadata": {},
     "output_type": "execute_result"
    }
   ],
   "source": [
    "output.shape"
   ]
  },
  {
   "cell_type": "code",
   "execution_count": 19,
   "id": "205bbd62",
   "metadata": {},
   "outputs": [
    {
     "data": {
      "text/plain": [
       "1470"
      ]
     },
     "execution_count": 19,
     "metadata": {},
     "output_type": "execute_result"
    }
   ],
   "source": [
    "def get_n_params(model):\n",
    "    pp=0\n",
    "    for p in list(model.parameters()):\n",
    "        nn=1\n",
    "        for s in list(p.size()):\n",
    "            nn = nn*s\n",
    "        pp += nn\n",
    "    return pp\n",
    "get_n_params(m)\n",
    "get_n_params(m2)"
   ]
  },
  {
   "cell_type": "code",
   "execution_count": 44,
   "id": "0b6af372",
   "metadata": {},
   "outputs": [
    {
     "data": {
      "text/plain": [
       "147"
      ]
     },
     "execution_count": 44,
     "metadata": {},
     "output_type": "execute_result"
    }
   ],
   "source": [
    "get_n_params(m3)"
   ]
  },
  {
   "cell_type": "code",
   "execution_count": null,
   "id": "9c43ec70",
   "metadata": {},
   "outputs": [],
   "source": []
  }
 ],
 "metadata": {
  "kernelspec": {
   "display_name": "Python 3",
   "language": "python",
   "name": "python3"
  },
  "language_info": {
   "codemirror_mode": {
    "name": "ipython",
    "version": 3
   },
   "file_extension": ".py",
   "mimetype": "text/x-python",
   "name": "python",
   "nbconvert_exporter": "python",
   "pygments_lexer": "ipython3",
   "version": "3.8.8"
  }
 },
 "nbformat": 4,
 "nbformat_minor": 5
}
